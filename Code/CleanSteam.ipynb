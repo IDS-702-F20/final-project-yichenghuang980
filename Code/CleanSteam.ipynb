{
 "cells": [
  {
   "cell_type": "code",
   "execution_count": 1,
   "metadata": {},
   "outputs": [],
   "source": [
    "import pandas as pd"
   ]
  },
  {
   "cell_type": "code",
   "execution_count": 2,
   "metadata": {},
   "outputs": [],
   "source": [
    "data = pd.read_csv('steam_games.csv.zip', compression = 'zip')"
   ]
  },
  {
   "cell_type": "code",
   "execution_count": 3,
   "metadata": {},
   "outputs": [],
   "source": [
    "clean = data.drop(['url', 'all_reviews', 'recent_reviews', 'game_description', 'recommended_requirements', 'publisher', 'desc_snippet', 'developer', 'release_date', 'types', 'popular_tags', 'minimum_requirements'], axis = 1).copy()"
   ]
  },
  {
   "cell_type": "code",
   "execution_count": 4,
   "metadata": {},
   "outputs": [],
   "source": [
    "# total comments\n",
    "clean['totalComments'] = data['all_reviews'].str.split(',', n = 1, expand = True)[1]\n",
    "clean['totalComments'] = clean['totalComments'].str.replace('\\).*', '').str.replace('\\(', '').str.replace(',', '').str.replace('- Need more user reviews to generate a score', '10')"
   ]
  },
  {
   "cell_type": "code",
   "execution_count": 5,
   "metadata": {},
   "outputs": [],
   "source": [
    "# postive proportion\n",
    "clean['posProp'] = data['all_reviews'].str.split('- ', n = 1, expand = True)[1].str[0:2].str.replace('%', '').str.replace('Ne', '51')\n",
    "clean.drop(clean[clean['posProp'].isna()].index, axis = 0, inplace = True)"
   ]
  },
  {
   "cell_type": "code",
   "execution_count": 6,
   "metadata": {},
   "outputs": [],
   "source": [
    "# free\n",
    "clean['original_price'] = clean['original_price'].str.replace('$', '')\n",
    "clean.original_price = pd.to_numeric(clean.original_price, errors='coerce')\n",
    "values = {'original_price': 'Free'}\n",
    "clean.fillna(value=values, inplace = True)\n",
    "clean['free'] = clean['original_price'] == 'Free'"
   ]
  },
  {
   "cell_type": "code",
   "execution_count": 7,
   "metadata": {},
   "outputs": [],
   "source": [
    "# discount\n",
    "clean['discount_price'] = clean['discount_price'].str.replace('$', '')\n",
    "clean.discount_price = pd.to_numeric(clean.discount_price, errors='coerce')\n",
    "values = {'discount_price': 0}\n",
    "clean.fillna(value=values, inplace = True)"
   ]
  },
  {
   "cell_type": "code",
   "execution_count": 8,
   "metadata": {},
   "outputs": [],
   "source": [
    "# original price\n",
    "clean['original_price'] = clean['original_price'].replace('Free', 0.1)\n",
    "clean['discount'] = (clean['original_price'] - clean['discount_price']) / clean['original_price']\n",
    "clean['discount'] = clean['discount'].replace(1, 0)\n",
    "negSlice = clean[clean['discount'] < 0].copy()\n",
    "negSlice['discount'] = 0\n",
    "clean.drop(clean[clean['discount'] < 0].index, axis = 0, inplace = True)\n",
    "clean = clean.append(negSlice, ignore_index = True).reset_index(drop = True)\n",
    "clean.drop(['discount_price'], axis = 1, inplace = True)\n",
    "clean['original_price'] = clean['original_price'].replace(0.1, 0)"
   ]
  },
  {
   "cell_type": "code",
   "execution_count": 9,
   "metadata": {},
   "outputs": [],
   "source": [
    "# mature content\n",
    "values = {'mature_content': 'zero'}\n",
    "clean.fillna(value=values, inplace = True)\n",
    "clean['mature_content'] = clean['mature_content'].str.contains(\"sex[y|ual]|violen[t|ce]|blood|scary|kill|sho[o]t|murder|nudity|sensitive|not appropriate|expos[e|ure]|unsuitable|horror|mature|erotic|boob|breast|chest|gore\", case=False, regex=True)"
   ]
  },
  {
   "cell_type": "code",
   "execution_count": 10,
   "metadata": {},
   "outputs": [],
   "source": [
    "# achievement\n",
    "values = {'achievements': 0}\n",
    "clean.fillna(value=values, inplace = True)\n",
    "clean['achievements'] = clean['achievements'].astype('int64')"
   ]
  },
  {
   "cell_type": "code",
   "execution_count": 11,
   "metadata": {},
   "outputs": [],
   "source": [
    "# game details\n",
    "values = {'game_details': 'no'}\n",
    "clean.fillna(value=values, inplace = True)\n",
    "clean['multi_player'] = clean['game_details'].str.contains('Multi-player', case = False)\n",
    "clean['trading_cards'] = clean['game_details'].str.contains('Steam Trading Cards', case = False)\n",
    "clean['online'] = clean['game_details'].str.contains('Online', case = False)\n",
    "clean['controller'] = clean['game_details'].str.contains('Controller', case = False)\n",
    "clean['cloud'] = clean['game_details'].str.contains('Cloud', case = False)\n",
    "clean.drop('game_details', axis = 1, inplace = True)"
   ]
  },
  {
   "cell_type": "code",
   "execution_count": 12,
   "metadata": {},
   "outputs": [],
   "source": [
    "# languages\n",
    "clean.drop(clean[clean['languages'].isnull()].index, axis = 0, inplace = True)\n",
    "clean['totalLan'] = clean['languages'].str.count(',') + 1\n",
    "clean['English'] = clean['languages'].str.contains('English')\n",
    "clean['Chinese'] = clean['languages'].str.contains('Simplified Chinese')\n",
    "clean['Russian'] = clean['languages'].str.contains('Russian')\n",
    "clean['Spanish'] = clean['languages'].str.contains('Spanish - Spain')\n",
    "clean['Portuguese'] = clean['languages'].str.contains('Portuguese - Brazil')\n",
    "clean['German'] = clean['languages'].str.contains('German')\n",
    "clean.drop('languages', axis = 1, inplace = True)"
   ]
  },
  {
   "cell_type": "code",
   "execution_count": 13,
   "metadata": {},
   "outputs": [],
   "source": [
    "# genre\n",
    "values = {'genre': 'Action,'}\n",
    "clean.fillna(value=values, inplace = True)"
   ]
  },
  {
   "cell_type": "code",
   "execution_count": 14,
   "metadata": {},
   "outputs": [],
   "source": [
    "action = clean[clean['genre'].str.contains('Action', case = False)].copy()\n",
    "action['genre'] = action['genre'].str.replace(\".*\", 'Action')\n",
    "clean.drop(action.index, inplace = True)\n",
    "adventure = clean[clean['genre'].str.contains('Adventure', case = False)].copy()\n",
    "adventure['genre'] = adventure['genre'].str.replace(\".*\", 'Adventure')\n",
    "clean.drop(adventure.index, inplace = True)\n",
    "strategy = clean[clean['genre'].str.contains('Strategy', case = False)].copy()\n",
    "strategy['genre'] = strategy['genre'].str.replace(\".*\", 'Strategy')\n",
    "clean.drop(strategy.index, inplace = True)\n",
    "casual = clean[clean['genre'].str.contains('Casual', case = False)].copy()\n",
    "casual['genre'] = casual['genre'].str.replace(\".*\", 'Casual')\n",
    "clean.drop(casual.index, inplace = True)\n",
    "simulation = clean[clean['genre'].str.contains('Simulation', case = False)].copy()\n",
    "simulation['genre'] = simulation['genre'].str.replace(\".*\", 'Simulation')\n",
    "clean.drop(simulation.index, inplace = True)\n",
    "rpg = clean[clean['genre'].str.contains('RPG', case = False)].copy()\n",
    "rpg['genre'] = rpg['genre'].str.replace(\".*\", 'RPG')\n",
    "clean.drop(rpg.index, inplace = True)\n",
    "other = clean.copy()\n",
    "other['genre'] = other['genre'].str.replace(\".*\", 'Other')\n",
    "clean.drop(other.index, inplace = True)"
   ]
  },
  {
   "cell_type": "code",
   "execution_count": 15,
   "metadata": {},
   "outputs": [],
   "source": [
    "clean = clean.append(action, ignore_index = False)\n",
    "clean = clean.append(adventure, ignore_index = False)\n",
    "clean = clean.append(strategy, ignore_index = False)\n",
    "clean = clean.append(casual, ignore_index = False)\n",
    "clean = clean.append(simulation, ignore_index = False)\n",
    "clean = clean.append(rpg, ignore_index = False)\n",
    "clean = clean.append(other, ignore_index = False)"
   ]
  },
  {
   "cell_type": "code",
   "execution_count": 16,
   "metadata": {},
   "outputs": [],
   "source": [
    "clean['genre'] = clean['genre'].str.replace('ActionAction', 'Action')\n",
    "clean['genre'] = clean['genre'].str.replace('AdventureAdventure', 'Adventure')\n",
    "clean['genre'] = clean['genre'].str.replace('StrategyStrategy', 'Strategy')\n",
    "clean['genre'] = clean['genre'].str.replace('CasualCasual', 'Casual')\n",
    "clean['genre'] = clean['genre'].str.replace('SimulationSimulation', 'Simulation')\n",
    "clean['genre'] = clean['genre'].str.replace('RPGRPG', 'RPG')\n",
    "clean['genre'] = clean['genre'].str.replace('OtherOther', 'Other')"
   ]
  },
  {
   "cell_type": "code",
   "execution_count": 17,
   "metadata": {},
   "outputs": [],
   "source": [
    "clean['posProp'] = clean['posProp'].astype('int64')\n",
    "clean['review'] = clean['posProp'] >= 50"
   ]
  },
  {
   "cell_type": "code",
   "execution_count": 18,
   "metadata": {},
   "outputs": [],
   "source": [
    "#IQR = clean['achievements'].quantile(q = 0.75) - clean['achievements'].quantile(q = 0.25)\n",
    "#mean = clean['achievements'].mean()\n",
    "#upper = mean + 1.5 * IQR\n",
    "#lower = mean - 1.5 * IQR\n",
    "#index_names = clean[(clean['achievements'] > upper) | (clean['achievements'] < lower)].index\n",
    "#clean.drop(index_names, inplace = True)"
   ]
  },
  {
   "cell_type": "code",
   "execution_count": 19,
   "metadata": {},
   "outputs": [],
   "source": [
    "IQR = clean['original_price'].quantile(q = 0.75) - clean['original_price'].quantile(q = 0.25)\n",
    "mean = clean['original_price'].mean()\n",
    "upper = mean + 1.5 * IQR\n",
    "lower = mean - 1.5 * IQR\n",
    "index_names = clean[(clean['original_price'] > upper)].index\n",
    "clean.drop(index_names, inplace = True)"
   ]
  },
  {
   "cell_type": "code",
   "execution_count": 20,
   "metadata": {},
   "outputs": [],
   "source": [
    "#IQR = clean['totalLan'].quantile(q = 0.75) - clean['totalLan'].quantile(q = 0.25)\n",
    "#mean = clean['totalLan'].mean()\n",
    "#upper = mean + 1.5 * IQR\n",
    "#lower = mean - 1.5 * IQR\n",
    "#index_names = clean[(clean['totalLan'] > upper) | (clean['totalLan'] < lower)].index\n",
    "#clean.drop(index_names, inplace = True)"
   ]
  },
  {
   "cell_type": "code",
   "execution_count": 21,
   "metadata": {},
   "outputs": [],
   "source": [
    "clean['totalComments'] = clean['totalComments'].astype('int64')\n",
    "clean['discount'] = clean['discount'].astype('float64')"
   ]
  },
  {
   "cell_type": "code",
   "execution_count": 22,
   "metadata": {},
   "outputs": [],
   "source": [
    "highDiscount = clean[clean['discount'] >= 0.5].copy()\n",
    "lowDiscount = clean[(clean['discount'] < 0.5) & (clean['discount'] > 0)].copy()\n",
    "noDiscount = clean[clean['discount'] == 0].copy()\n",
    "lowDiscount.loc[lowDiscount['discount'] < 0.5, 'discount'] = \"Low\"\n",
    "highDiscount.loc[highDiscount['discount'] >= 0.5, 'discount'] = \"High\"\n",
    "noDiscount.loc[noDiscount['discount'] == 0, 'discount'] = \"Zero\"\n",
    "clean = highDiscount.append(lowDiscount, ignore_index = True)\n",
    "clean = clean.append(noDiscount, ignore_index = True).reset_index(drop = True)"
   ]
  },
  {
   "cell_type": "code",
   "execution_count": 23,
   "metadata": {},
   "outputs": [],
   "source": [
    "clean.sort_values(by = 'review', inplace = True)"
   ]
  },
  {
   "cell_type": "code",
   "execution_count": 24,
   "metadata": {},
   "outputs": [],
   "source": [
    "clean.to_csv('review.csv', index=False)"
   ]
  },
  {
   "cell_type": "code",
   "execution_count": null,
   "metadata": {},
   "outputs": [],
   "source": []
  }
 ],
 "metadata": {
  "kernelspec": {
   "display_name": "Python 3",
   "language": "python",
   "name": "python3"
  },
  "language_info": {
   "codemirror_mode": {
    "name": "ipython",
    "version": 3
   },
   "file_extension": ".py",
   "mimetype": "text/x-python",
   "name": "python",
   "nbconvert_exporter": "python",
   "pygments_lexer": "ipython3",
   "version": "3.8.3"
  }
 },
 "nbformat": 4,
 "nbformat_minor": 4
}
